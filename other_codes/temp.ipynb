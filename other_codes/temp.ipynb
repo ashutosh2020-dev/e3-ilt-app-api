{
 "cells": [
  {
   "cell_type": "code",
   "execution_count": 7,
   "metadata": {},
   "outputs": [],
   "source": [
    "import requests\n",
    "import pandas as pd\n",
    "import random\n",
    "from datetime import datetime, timezone"
   ]
  },
  {
   "cell_type": "code",
   "execution_count": null,
   "metadata": {},
   "outputs": [],
   "source": [
    "# datetime.now() +20"
   ]
  },
  {
   "cell_type": "code",
   "execution_count": 10,
   "metadata": {},
   "outputs": [],
   "source": [
    "df = pd.read_csv(\"user.csv\")\n",
    "df.head()"
   ]
  },
  {
   "cell_type": "code",
   "execution_count": 18,
   "metadata": {},
   "outputs": [
    {
     "data": {
      "text/plain": [
       "id                                1\n",
       "fname                       Cynthia\n",
       "lname                     Cervantes\n",
       "email        lhernandez@example.net\n",
       "number           069-721-5830x19262\n",
       "password                 %G@1ZIEmW1\n",
       "is_active                      True\n",
       "role_id                           2\n",
       "Name: 0, dtype: object"
      ]
     },
     "execution_count": 18,
     "metadata": {},
     "output_type": "execute_result"
    }
   ],
   "source": [
    "df.iloc[0]\n"
   ]
  },
  {
   "cell_type": "code",
   "execution_count": 22,
   "metadata": {},
   "outputs": [
    {
     "name": "stdout",
     "output_type": "stream",
     "text": [
      "0\n",
      "1\n",
      "2\n",
      "3\n",
      "0\n",
      "1\n",
      "2\n",
      "3\n",
      "0\n",
      "1\n",
      "2\n",
      "3\n",
      "0\n",
      "1\n",
      "2\n",
      "3\n"
     ]
    }
   ],
   "source": [
    "num_user = 112\n",
    "num_school = 4\n",
    "num_ilt = 4\n",
    "num_member_in_ilt = 7\n",
    "\n",
    "for school_idx in range(num_school):\n",
    "        for i in range(num_ilt):\n",
    "            print(i)\n",
    "            # print(i+(school_idx*num_ilt))"
   ]
  },
  {
   "cell_type": "code",
   "execution_count": null,
   "metadata": {},
   "outputs": [],
   "source": [
    "list(df[df['role_id']==50].index)\n",
    "for _,row in df.iterrows():\n",
    "    print(_)\n",
    "    "
   ]
  },
  {
   "cell_type": "code",
   "execution_count": 3,
   "metadata": {},
   "outputs": [
    {
     "name": "stdout",
     "output_type": "stream",
     "text": [
      "{\"title\": \"Example Title\", \"description\": \"Example Description\", \"schoolId\": 6789, \"owner_id\": 12345, \"memberIds\": [51, 5, 54, 4]}\n"
     ]
    }
   ],
   "source": [
    "import json\n",
    "\n",
    "ilt = {\n",
    "    \"title\": \"Example Title\",\n",
    "    \"description\": \"Example Description\",\n",
    "    \"owner_id\": 12345\n",
    "}\n",
    "\n",
    "school_id = 6789\n",
    "\n",
    "data = json.dumps({\n",
    "    \"title\": ilt[\"title\"],\n",
    "    \"description\": ilt[\"description\"],\n",
    "    \"schoolId\": school_id,\n",
    "    \"owner_id\": ilt[\"owner_id\"],\n",
    "    \"memberIds\": [51, 5, 54, 4]\n",
    "})\n",
    "\n",
    "json_data = data#json.dumps(data)\n",
    "print(json_data)\n",
    "# In this updated code, I've created a sample dictionary ilt with the necessary key-value pairs for title, description, and owner_id. I've also defined a school_id variable. The data dictionary is then created using the values from ilt and school_id. Finally, the json.dumps() function is used to convert the data dictionary into a JSON string, which is printed to the console.\n",
    "\n",
    "\n",
    "\n",
    "\n",
    "\n",
    "\n"
   ]
  },
  {
   "cell_type": "code",
   "execution_count": null,
   "metadata": {},
   "outputs": [],
   "source": []
  },
  {
   "cell_type": "code",
   "execution_count": null,
   "metadata": {},
   "outputs": [],
   "source": []
  },
  {
   "cell_type": "code",
   "execution_count": 13,
   "metadata": {},
   "outputs": [],
   "source": [
    "meeting = [{\n",
    "                \"id\": 1,\n",
    "                \"meetingId\": 2,\n",
    "                \"meetingEndDate\": \"2023-09-14T13:11:30.506646\",\n",
    "                \"attendancePercentage\": {\n",
    "                    \"percentage\": 50,\n",
    "                    \"total\": 6\n",
    "                },\n",
    "                \"rockOnTrack\": {\n",
    "                    \"percentage\": 66.66666666666666,\n",
    "                    \"total\": 3\n",
    "                },\n",
    "                \"avgRatings\": {\n",
    "                    \"percentage\": 80,\n",
    "                    \"total\": 5\n",
    "                },\n",
    "                \"avgtoDo\": {\n",
    "                    \"percentage\": 0.75,\n",
    "                    \"total\": 4\n",
    "                },\n",
    "                \"issues\": {\n",
    "                    \"resolve\": {\n",
    "                    \"percentage\": 66.66666666666666,\n",
    "                    \"total\": 3\n",
    "                    },\n",
    "                    \"recognizePerformance\": {\n",
    "                    \"percentage\": 33.33333333333333,\n",
    "                    \"total\": 3\n",
    "                    },\n",
    "                    \"teacherSupport\": {\n",
    "                    \"percentage\": 100,\n",
    "                    \"total\": 3\n",
    "                    },\n",
    "                    \"leaderSupport\": {\n",
    "                    \"percentage\": 66.66666666666666,\n",
    "                    \"total\": 3\n",
    "                    },\n",
    "                    \"advanceEquity\": {\n",
    "                    \"percentage\": 66.66666666666666,\n",
    "                    \"total\": 3\n",
    "                    },\n",
    "                    \"othersFlag\": {\n",
    "                    \"percentage\": 0,\n",
    "                    \"total\": 3\n",
    "                    },\n",
    "                    \"avgIssueRepeat\": {\n",
    "                    \"percentage\": 100,\n",
    "                    \"total\": 3\n",
    "                    },\n",
    "                    \"totalIssues\": 3\n",
    "                }\n",
    "            },\n",
    "                    {\n",
    "                        \"id\": 1,\n",
    "                        \"meetingId\": 1,\n",
    "                        \"meetingEndDate\": \"2023-09-18T17:53:02.303119\",\n",
    "                        \"attendancePercentage\": {\n",
    "                            \"percentage\": 0,\n",
    "                            \"total\": 6\n",
    "                        },\n",
    "                        \"rockOnTrack\": {\n",
    "                            \"percentage\": 60,\n",
    "                            \"total\": 5\n",
    "                        },\n",
    "                        \"avgRatings\": {\n",
    "                            \"percentage\": 80,\n",
    "                            \"total\": 5\n",
    "                        },\n",
    "                        \"avgtoDo\": {\n",
    "                            \"percentage\": 0.5,\n",
    "                            \"total\": 6\n",
    "                        },\n",
    "                        \"issues\": {\n",
    "                            \"resolve\": {\n",
    "                            \"percentage\": 0,\n",
    "                            \"total\": 5\n",
    "                            },\n",
    "                            \"recognizePerformance\": {\n",
    "                            \"percentage\": 100,\n",
    "                            \"total\": 5\n",
    "                            },\n",
    "                            \"teacherSupport\": {\n",
    "                            \"percentage\": 80,\n",
    "                            \"total\": 5\n",
    "                            },\n",
    "                            \"leaderSupport\": {\n",
    "                            \"percentage\": 80,\n",
    "                            \"total\": 5\n",
    "                            },\n",
    "                            \"advanceEquity\": {\n",
    "                            \"percentage\": 100,\n",
    "                            \"total\": 5\n",
    "                            },\n",
    "                            \"othersFlag\": {\n",
    "                            \"percentage\": 20,\n",
    "                            \"total\": 5\n",
    "                            },\n",
    "                            \"avgIssueRepeat\": {\n",
    "                            \"percentage\": 140,\n",
    "                            \"total\": 5\n",
    "                            },\n",
    "                            \"totalIssues\": 5\n",
    "                        }\n",
    "                    }\n",
    "            ]"
   ]
  },
  {
   "cell_type": "code",
   "execution_count": 14,
   "metadata": {},
   "outputs": [
    {
     "name": "stdout",
     "output_type": "stream",
     "text": [
      "'int' object is not subscriptable avgRatings\n",
      "> \u001b[1;32mc:\\users\\at769\\appdata\\local\\temp\\ipykernel_19420\\2858758466.py\u001b[0m(24)\u001b[0;36mcalculate_average_percentages\u001b[1;34m()\u001b[0m\n",
      "\n"
     ]
    }
   ],
   "source": [
    "import pdb\n",
    "def calculate_average_percentages(data_list):\n",
    "    # Initialize a dictionary to store the sums and counts of percentages\n",
    "    percentage_sums = {\n",
    "        \"attendancePercentage\": {\"percentage\": 0, \"total\": 0},\n",
    "        \"rockOnTrack\": {\"percentage\": 0, \"total\": 0},\n",
    "        \"avgRatings\": {\"percentage\": 0, \"total\": 0},\n",
    "        \"avgtoDo\": {\"percentage\": 0, \"total\": 0},\n",
    "        \"issues\":{\n",
    "                \"recognizePerformance\": {\"percentage\": 0, \"total\": 0},\n",
    "                \"teacherSupport\": {\"percentage\": 0, \"total\": 0},\n",
    "                \"leaderSupport\": {\"percentage\": 0, \"total\": 0},\n",
    "                \"advanceEquity\": {\"percentage\": 0, \"total\": 0},\n",
    "                \"othersFlag\": {\"percentage\": 0, \"total\": 0},\n",
    "                \"avgIssueRepeat\": {\"percentage\": 0, \"total\": 0},      \n",
    "                \"avgIssueRepeat\": {\"percentage\": 0, \"total\": 0},\n",
    "        }\n",
    "        # ... add other keys here ...\n",
    "    }\n",
    "\n",
    "    # Calculate the sum of percentages and total counts\n",
    "    try:\n",
    "        for data_dict in data_list:\n",
    "            for key, value in data_dict.items():\n",
    "                if key ==\"issues\":\n",
    "                    for key1, value1 in value.items():                   \n",
    "                if key in percentage_sums:\n",
    "                    percentage_sums[key][\"percentage\"] += value[\"percentage\"]\n",
    "                    percentage_sums[key][\"total\"] += 1\n",
    "                \n",
    "    except Exception as e:\n",
    "        print(e, key)\n",
    "        pdb.set_trace()\n",
    "    # Calculate the average percentages and create a new dictionary\n",
    "    average_dict = {}\n",
    "    for key, value in percentage_sums.items():\n",
    "        if value[\"total\"] == 0:\n",
    "            average_dict[key] = {\"avgPercentage\": 0}\n",
    "        else:\n",
    "            average_dict[key] = {\"avgPercentage\": value[\"percentage\"] / value[\"total\"], \"total\": value[\"total\"]}\n",
    "\n",
    "    return average_dict\n",
    "\n",
    "result = calculate_average_percentages(meeting)\n",
    "print(result)\n"
   ]
  },
  {
   "cell_type": "code",
   "execution_count": 35,
   "metadata": {},
   "outputs": [
    {
     "name": "stdout",
     "output_type": "stream",
     "text": [
      "10\n",
      "0\n",
      "0\n",
      "issue {'recognizePerformance': <__main__.PercentageData object at 0x0000017A7FBC17B0>, 'teacherSupport': <__main__.PercentageData object at 0x0000017A7FBC2FB0>, 'leaderSupport': <__main__.PercentageData object at 0x0000017A7FBC27A0>, 'advanceEquity': <__main__.PercentageData object at 0x0000017A7FBC0C10>, 'othersFlag': <__main__.PercentageData object at 0x0000017A7FBC10F0>, 'avgIssueRepeat': <__main__.PercentageData object at 0x0000017A7FBC0760>}\n",
      "percentage 0\n",
      "percentage 0\n",
      "percentage 0\n",
      "percentage 0\n",
      "percentage 0\n",
      "percentage 0\n",
      "{'recognizePerformance': <__main__.PercentageData object at 0x0000017A7FC12890>, 'teacherSupport': <__main__.PercentageData object at 0x0000017A7FBC17B0>, 'leaderSupport': <__main__.PercentageData object at 0x0000017A7FBC2FB0>, 'advanceEquity': <__main__.PercentageData object at 0x0000017A7FBC27A0>, 'othersFlag': <__main__.PercentageData object at 0x0000017A7FBC0C10>, 'avgIssueRepeat': <__main__.PercentageData object at 0x0000017A7FBC10F0>}\n",
      "CPU times: total: 0 ns\n",
      "Wall time: 2.76 ms\n"
     ]
    },
    {
     "data": {
      "text/plain": [
       "<__main__.SummaryData at 0x17a7fbc3550>"
      ]
     },
     "execution_count": 35,
     "metadata": {},
     "output_type": "execute_result"
    }
   ],
   "source": [
    "%%time\n",
    "class PercentageData:\n",
    "    def __init__(self, percentage=10, total=10):\n",
    "        self.percentage = percentage\n",
    "        self.total = total\n",
    "\n",
    "class IssuesData:\n",
    "    def __init__(self):\n",
    "        self.recognizePerformance = PercentageData()\n",
    "        self.teacherSupport = PercentageData()\n",
    "        self.leaderSupport = PercentageData()\n",
    "        self.advanceEquity = PercentageData()\n",
    "        self.othersFlag = PercentageData()\n",
    "        self.avgIssueRepeat = PercentageData()\n",
    "\n",
    "class SummaryData:\n",
    "    def __init__(self):\n",
    "        self.attendancePercentage = PercentageData()\n",
    "        self.rockOnTrack = PercentageData()\n",
    "        self.avgRatings = PercentageData()\n",
    "        self.avgtoDo = PercentageData()\n",
    "        self.issues = IssuesData()\n",
    "def temp():\n",
    "    # Example usage:\n",
    "    percentage_sums = SummaryData()\n",
    "\n",
    "    # Initialize values\n",
    "    percentage_sums.attendancePercentage = PercentageData(0, 0)\n",
    "    percentage_sums.rockOnTrack = PercentageData(0, 0)\n",
    "    percentage_sums.avgRatings = PercentageData(0, 0)\n",
    "    percentage_sums.avgtoDo = PercentageData(0, 0)\n",
    "\n",
    "    # Initialize issues data\n",
    "    print(percentage_sums.issues.recognizePerformance.percentage)\n",
    "    percentage_sums.issues.recognizePerformance = PercentageData(0, 0)\n",
    "    percentage_sums.issues.teacherSupport = PercentageData(0, 0)\n",
    "    percentage_sums.issues.leaderSupport = PercentageData(0, 0)\n",
    "    percentage_sums.issues.advanceEquity = PercentageData(0, 0)\n",
    "    percentage_sums.issues.othersFlag = PercentageData(0, 0)\n",
    "    percentage_sums.issues.avgIssueRepeat = PercentageData(0, 0)\n",
    "\n",
    "    # To access values\n",
    "    print(percentage_sums.attendancePercentage.percentage)  # Accessing attendancePercentage percentage\n",
    "    print(percentage_sums.issues.recognizePerformance.total)  # Accessing issues recognizePerformance total\n",
    "    \n",
    "    print(\"issue\", vars(percentage_sums.issues))\n",
    "    for key, val in vars(percentage_sums.issues).items():\n",
    "        # percentage_sums.issues.f\"{key}\" = \"norn\"\n",
    "        print(\"percentage\",val.percentage)\n",
    "        setattr(percentage_sums.issues, key, PercentageData(val.percentage+12, val.total+12))\n",
    "\n",
    "    print(vars(percentage_sums.issues))\n",
    "    return percentage_sums\n",
    "\n",
    "\n",
    "temp()"
   ]
  },
  {
   "cell_type": "code",
   "execution_count": 40,
   "metadata": {},
   "outputs": [
    {
     "data": {
      "text/plain": [
       "3.0"
      ]
     },
     "execution_count": 40,
     "metadata": {},
     "output_type": "execute_result"
    }
   ],
   "source": [
    "round(2.5333, 0)"
   ]
  }
 ],
 "metadata": {
  "kernelspec": {
   "display_name": "Python 3",
   "language": "python",
   "name": "python3"
  },
  "language_info": {
   "codemirror_mode": {
    "name": "ipython",
    "version": 3
   },
   "file_extension": ".py",
   "mimetype": "text/x-python",
   "name": "python",
   "nbconvert_exporter": "python",
   "pygments_lexer": "ipython3",
   "version": "3.10.9"
  },
  "orig_nbformat": 4
 },
 "nbformat": 4,
 "nbformat_minor": 2
}
