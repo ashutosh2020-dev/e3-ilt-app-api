{
 "cells": [
  {
   "cell_type": "code",
   "execution_count": 7,
   "metadata": {},
   "outputs": [],
   "source": [
    "import requests\n",
    "import pandas as pd\n",
    "import random\n",
    "from datetime import datetime, timezone"
   ]
  },
  {
   "cell_type": "code",
   "execution_count": null,
   "metadata": {},
   "outputs": [],
   "source": [
    "# datetime.now() +20"
   ]
  },
  {
   "cell_type": "code",
   "execution_count": 10,
   "metadata": {},
   "outputs": [],
   "source": [
    "df = pd.read_csv(\"user.csv\")\n",
    "df.head()"
   ]
  },
  {
   "cell_type": "code",
   "execution_count": 18,
   "metadata": {},
   "outputs": [
    {
     "data": {
      "text/plain": [
       "id                                1\n",
       "fname                       Cynthia\n",
       "lname                     Cervantes\n",
       "email        lhernandez@example.net\n",
       "number           069-721-5830x19262\n",
       "password                 %G@1ZIEmW1\n",
       "is_active                      True\n",
       "role_id                           2\n",
       "Name: 0, dtype: object"
      ]
     },
     "execution_count": 18,
     "metadata": {},
     "output_type": "execute_result"
    }
   ],
   "source": [
    "df.iloc[0]\n"
   ]
  },
  {
   "cell_type": "code",
   "execution_count": 22,
   "metadata": {},
   "outputs": [
    {
     "name": "stdout",
     "output_type": "stream",
     "text": [
      "0\n",
      "1\n",
      "2\n",
      "3\n",
      "0\n",
      "1\n",
      "2\n",
      "3\n",
      "0\n",
      "1\n",
      "2\n",
      "3\n",
      "0\n",
      "1\n",
      "2\n",
      "3\n"
     ]
    }
   ],
   "source": [
    "num_user = 112\n",
    "num_school = 4\n",
    "num_ilt = 4\n",
    "num_member_in_ilt = 7\n",
    "\n",
    "for school_idx in range(num_school):\n",
    "        for i in range(num_ilt):\n",
    "            print(i)\n",
    "            # print(i+(school_idx*num_ilt))"
   ]
  },
  {
   "cell_type": "code",
   "execution_count": null,
   "metadata": {},
   "outputs": [],
   "source": [
    "list(df[df['role_id']==50].index)\n",
    "for _,row in df.iterrows():\n",
    "    print(_)\n",
    "    "
   ]
  },
  {
   "cell_type": "code",
   "execution_count": 3,
   "metadata": {},
   "outputs": [
    {
     "name": "stdout",
     "output_type": "stream",
     "text": [
      "{\"title\": \"Example Title\", \"description\": \"Example Description\", \"schoolId\": 6789, \"owner_id\": 12345, \"memberIds\": [51, 5, 54, 4]}\n"
     ]
    }
   ],
   "source": [
    "import json\n",
    "\n",
    "ilt = {\n",
    "    \"title\": \"Example Title\",\n",
    "    \"description\": \"Example Description\",\n",
    "    \"owner_id\": 12345\n",
    "}\n",
    "\n",
    "school_id = 6789\n",
    "\n",
    "data = json.dumps({\n",
    "    \"title\": ilt[\"title\"],\n",
    "    \"description\": ilt[\"description\"],\n",
    "    \"schoolId\": school_id,\n",
    "    \"owner_id\": ilt[\"owner_id\"],\n",
    "    \"memberIds\": [51, 5, 54, 4]\n",
    "})\n",
    "\n",
    "json_data = data#json.dumps(data)\n",
    "print(json_data)\n",
    "# In this updated code, I've created a sample dictionary ilt with the necessary key-value pairs for title, description, and owner_id. I've also defined a school_id variable. The data dictionary is then created using the values from ilt and school_id. Finally, the json.dumps() function is used to convert the data dictionary into a JSON string, which is printed to the console.\n",
    "\n",
    "\n",
    "\n",
    "\n",
    "\n",
    "\n"
   ]
  }
 ],
 "metadata": {
  "kernelspec": {
   "display_name": "Python 3",
   "language": "python",
   "name": "python3"
  },
  "language_info": {
   "codemirror_mode": {
    "name": "ipython",
    "version": 3
   },
   "file_extension": ".py",
   "mimetype": "text/x-python",
   "name": "python",
   "nbconvert_exporter": "python",
   "pygments_lexer": "ipython3",
   "version": "3.10.9"
  },
  "orig_nbformat": 4
 },
 "nbformat": 4,
 "nbformat_minor": 2
}
