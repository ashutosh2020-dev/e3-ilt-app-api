{
 "cells": [
  {
   "cell_type": "code",
   "execution_count": 1,
   "metadata": {},
   "outputs": [],
   "source": [
    "import requests\n",
    "import pandas as pd\n",
    "import random"
   ]
  },
  {
   "cell_type": "code",
   "execution_count": 2,
   "metadata": {},
   "outputs": [
    {
     "data": {
      "text/html": [
       "<div>\n",
       "<style scoped>\n",
       "    .dataframe tbody tr th:only-of-type {\n",
       "        vertical-align: middle;\n",
       "    }\n",
       "\n",
       "    .dataframe tbody tr th {\n",
       "        vertical-align: top;\n",
       "    }\n",
       "\n",
       "    .dataframe thead th {\n",
       "        text-align: right;\n",
       "    }\n",
       "</style>\n",
       "<table border=\"1\" class=\"dataframe\">\n",
       "  <thead>\n",
       "    <tr style=\"text-align: right;\">\n",
       "      <th></th>\n",
       "      <th>id</th>\n",
       "      <th>fname</th>\n",
       "      <th>lname</th>\n",
       "      <th>email</th>\n",
       "      <th>number</th>\n",
       "      <th>password</th>\n",
       "      <th>is_active</th>\n",
       "      <th>role_id</th>\n",
       "    </tr>\n",
       "  </thead>\n",
       "  <tbody>\n",
       "    <tr>\n",
       "      <th>0</th>\n",
       "      <td>0</td>\n",
       "      <td>Kenneth</td>\n",
       "      <td>Ruiz</td>\n",
       "      <td>samueltaylor@example.com</td>\n",
       "      <td>448.805.2086x9686</td>\n",
       "      <td>O7LaRApT(O</td>\n",
       "      <td>False</td>\n",
       "      <td>1</td>\n",
       "    </tr>\n",
       "    <tr>\n",
       "      <th>1</th>\n",
       "      <td>1</td>\n",
       "      <td>Samantha</td>\n",
       "      <td>Weber</td>\n",
       "      <td>brendabailey@example.net</td>\n",
       "      <td>3330103604</td>\n",
       "      <td>+4*hcHIb47</td>\n",
       "      <td>True</td>\n",
       "      <td>1</td>\n",
       "    </tr>\n",
       "    <tr>\n",
       "      <th>2</th>\n",
       "      <td>2</td>\n",
       "      <td>Tammy</td>\n",
       "      <td>Montgomery</td>\n",
       "      <td>anitajones@example.org</td>\n",
       "      <td>448-916-5786</td>\n",
       "      <td>!u%3Wh$pGd</td>\n",
       "      <td>False</td>\n",
       "      <td>2</td>\n",
       "    </tr>\n",
       "    <tr>\n",
       "      <th>3</th>\n",
       "      <td>3</td>\n",
       "      <td>Jamie</td>\n",
       "      <td>Edwards</td>\n",
       "      <td>amberkim@example.com</td>\n",
       "      <td>414-187-0472</td>\n",
       "      <td>&amp;0n(0Ny_!e</td>\n",
       "      <td>True</td>\n",
       "      <td>1</td>\n",
       "    </tr>\n",
       "    <tr>\n",
       "      <th>4</th>\n",
       "      <td>4</td>\n",
       "      <td>Leah</td>\n",
       "      <td>Jackson</td>\n",
       "      <td>ashleybrooks@example.net</td>\n",
       "      <td>784-741-1752</td>\n",
       "      <td>7(9DdIEz6$</td>\n",
       "      <td>False</td>\n",
       "      <td>2</td>\n",
       "    </tr>\n",
       "  </tbody>\n",
       "</table>\n",
       "</div>"
      ],
      "text/plain": [
       "   id     fname       lname                     email             number  \\\n",
       "0   0   Kenneth        Ruiz  samueltaylor@example.com  448.805.2086x9686   \n",
       "1   1  Samantha       Weber  brendabailey@example.net         3330103604   \n",
       "2   2     Tammy  Montgomery    anitajones@example.org       448-916-5786   \n",
       "3   3     Jamie     Edwards      amberkim@example.com       414-187-0472   \n",
       "4   4      Leah     Jackson  ashleybrooks@example.net       784-741-1752   \n",
       "\n",
       "     password  is_active  role_id  \n",
       "0  O7LaRApT(O      False        1  \n",
       "1  +4*hcHIb47       True        1  \n",
       "2  !u%3Wh$pGd      False        2  \n",
       "3  &0n(0Ny_!e       True        1  \n",
       "4  7(9DdIEz6$      False        2  "
      ]
     },
     "execution_count": 2,
     "metadata": {},
     "output_type": "execute_result"
    }
   ],
   "source": [
    "df = pd.read_csv(\"user.csv\")\n",
    "df.head()"
   ]
  },
  {
   "cell_type": "code",
   "execution_count": 15,
   "metadata": {},
   "outputs": [
    {
     "data": {
      "text/plain": [
       "3    Jamie\n",
       "Name: fname, dtype: object"
      ]
     },
     "execution_count": 15,
     "metadata": {},
     "output_type": "execute_result"
    }
   ],
   "source": [
    "d = df.iloc[[3]]['fname']\n",
    "d"
   ]
  },
  {
   "cell_type": "code",
   "execution_count": null,
   "metadata": {},
   "outputs": [],
   "source": [
    "list(df[df['role_id']==50].index)\n",
    "for _,row in df.iterrows():\n",
    "    print(_)\n",
    "    "
   ]
  },
  {
   "cell_type": "code",
   "execution_count": 51,
   "metadata": {},
   "outputs": [
    {
     "name": "stdout",
     "output_type": "stream",
     "text": [
      "None\n"
     ]
    }
   ],
   "source": [
    "d = random.sample(range(1, 93), 6).append(2)\n",
    "# print(d)\n",
    "# d = random.sample(range(1, 93), 6)\n",
    "# print(d)\n",
    "# d.extend([2])\n",
    "print(d)"
   ]
  }
 ],
 "metadata": {
  "kernelspec": {
   "display_name": "Python 3",
   "language": "python",
   "name": "python3"
  },
  "language_info": {
   "codemirror_mode": {
    "name": "ipython",
    "version": 3
   },
   "file_extension": ".py",
   "mimetype": "text/x-python",
   "name": "python",
   "nbconvert_exporter": "python",
   "pygments_lexer": "ipython3",
   "version": "3.10.9"
  },
  "orig_nbformat": 4
 },
 "nbformat": 4,
 "nbformat_minor": 2
}
